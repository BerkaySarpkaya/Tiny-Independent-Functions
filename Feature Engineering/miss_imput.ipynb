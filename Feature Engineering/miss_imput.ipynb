{
 "cells": [
  {
   "cell_type": "code",
   "execution_count": 1,
   "metadata": {},
   "outputs": [],
   "source": [
    "import pandas as pd\n",
    "import numpy as np"
   ]
  },
  {
   "cell_type": "code",
   "execution_count": 2,
   "metadata": {},
   "outputs": [],
   "source": [
    "df=pd.read_excel(\"satisfaction_2015.xlsx\")"
   ]
  },
  {
   "cell_type": "code",
   "execution_count": 7,
   "metadata": {},
   "outputs": [],
   "source": [
    "def miss_imput(df, strategy='mean', features=None):\n",
    "    \"\"\"\n",
    "    Fill missing values in specified features (columns) of a DataFrame based on the specified strategy.\n",
    "\n",
    "    Parameters:\n",
    "    - df (pd.DataFrame): The input DataFrame.\n",
    "    - strategy (str): The filling strategy. Options: 'mean', 'mode', 'ffill', 'bfill'.\n",
    "    - features (list): A list of features (columns) to apply the filling operation. If None, apply to all columns.\n",
    "\n",
    "    Returns:\n",
    "    - pd.DataFrame: A DataFrame with filled missing values.\n",
    "    \"\"\"\n",
    "    strategies = ['mean', 'mode', 'ffill', 'bfill']\n",
    "    \n",
    "    if strategy not in strategies:\n",
    "        raise ValueError(f\"Invalid strategy. Choose one of {strategies}\")\n",
    "\n",
    "    df_copy = df.copy()\n",
    "\n",
    "    if features is None:\n",
    "        features = df.columns\n",
    "\n",
    "    for feature in features:\n",
    "        if df_copy[feature].dtype in ['int64', 'float64'] and df_copy[feature].hasnans:\n",
    "            if strategy == 'mean':\n",
    "                df_copy[feature] = df_copy[feature].fillna(df_copy[feature].mean())\n",
    "            elif strategy == 'mode':\n",
    "                df_copy[feature] = df_copy[feature].fillna(df_copy[feature].mode().iloc[0])\n",
    "            elif strategy == 'ffill':\n",
    "                df_copy[feature] = df_copy[feature].fillna(method='ffill')\n",
    "            elif strategy == 'bfill':\n",
    "                df_copy[feature] = df_copy[feature].fillna(method='bfill')\n",
    "        elif df_copy[feature].dtype == 'object' and df_copy[feature].hasnans:\n",
    "            if strategy == 'mode':\n",
    "                df_copy[feature] = df_copy[feature].fillna(df_copy[feature].mode().iloc[0])\n",
    "            elif strategy == 'ffill':\n",
    "                df_copy[feature] = df_copy[feature].fillna(method='ffill')\n",
    "            elif strategy == 'bfill':\n",
    "                df_copy[feature] = df_copy[feature].fillna(method='bfill')\n",
    "        elif df_copy[feature].dtype == 'category' and df_copy[feature].hasnans:\n",
    "            if strategy == 'mode':\n",
    "                df_copy[feature] = df_copy[feature].fillna(df_copy[feature].mode().iloc[0])\n",
    "            elif strategy == 'ffill':\n",
    "                df_copy[feature] = df_copy[feature].fillna(method='ffill')\n",
    "            elif strategy == 'bfill':\n",
    "                df_copy[feature] = df_copy[feature].fillna(method='bfill')\n",
    "        else:\n",
    "            print(f\"Warning: {feature} column is not applicable for fillna. Skipping this column.\")\n",
    "\n",
    "    return df_copy"
   ]
  },
  {
   "cell_type": "code",
   "execution_count": 10,
   "metadata": {},
   "outputs": [
    {
     "data": {
      "text/plain": [
       "id                                     0\n",
       "satisfaction_v2                        0\n",
       "Gender                                 0\n",
       "Customer Type                          0\n",
       "Age                                    0\n",
       "Type of Travel                         0\n",
       "Class                                  0\n",
       "Flight Distance                        0\n",
       "Inflight wifi service                  0\n",
       "Departure/Arrival time convenient      0\n",
       "Ease of Online booking                 0\n",
       "Gate location                          0\n",
       "Food and drink                         0\n",
       "Online boarding                        0\n",
       "Seat comfort                           0\n",
       "Inflight entertainment                 0\n",
       "On-board service                       0\n",
       "Leg room service                       0\n",
       "Baggage handling                       0\n",
       "Checkin service                        0\n",
       "Inflight service                       0\n",
       "Cleanliness                            0\n",
       "Departure Delay in Minutes             0\n",
       "Arrival Delay in Minutes             393\n",
       "dtype: int64"
      ]
     },
     "execution_count": 10,
     "metadata": {},
     "output_type": "execute_result"
    }
   ],
   "source": [
    "df.isna().sum()"
   ]
  },
  {
   "cell_type": "code",
   "execution_count": 11,
   "metadata": {},
   "outputs": [],
   "source": [
    "df=miss_imput(df,strategy='mean',features=['Arrival Delay in Minutes'])"
   ]
  },
  {
   "cell_type": "code",
   "execution_count": 12,
   "metadata": {},
   "outputs": [
    {
     "data": {
      "text/plain": [
       "id                                   0\n",
       "satisfaction_v2                      0\n",
       "Gender                               0\n",
       "Customer Type                        0\n",
       "Age                                  0\n",
       "Type of Travel                       0\n",
       "Class                                0\n",
       "Flight Distance                      0\n",
       "Inflight wifi service                0\n",
       "Departure/Arrival time convenient    0\n",
       "Ease of Online booking               0\n",
       "Gate location                        0\n",
       "Food and drink                       0\n",
       "Online boarding                      0\n",
       "Seat comfort                         0\n",
       "Inflight entertainment               0\n",
       "On-board service                     0\n",
       "Leg room service                     0\n",
       "Baggage handling                     0\n",
       "Checkin service                      0\n",
       "Inflight service                     0\n",
       "Cleanliness                          0\n",
       "Departure Delay in Minutes           0\n",
       "Arrival Delay in Minutes             0\n",
       "dtype: int64"
      ]
     },
     "execution_count": 12,
     "metadata": {},
     "output_type": "execute_result"
    }
   ],
   "source": [
    "df.isna().sum()"
   ]
  },
  {
   "cell_type": "code",
   "execution_count": null,
   "metadata": {},
   "outputs": [],
   "source": []
  }
 ],
 "metadata": {
  "kernelspec": {
   "display_name": "base",
   "language": "python",
   "name": "python3"
  },
  "language_info": {
   "codemirror_mode": {
    "name": "ipython",
    "version": 3
   },
   "file_extension": ".py",
   "mimetype": "text/x-python",
   "name": "python",
   "nbconvert_exporter": "python",
   "pygments_lexer": "ipython3",
   "version": "3.11.6"
  }
 },
 "nbformat": 4,
 "nbformat_minor": 2
}
